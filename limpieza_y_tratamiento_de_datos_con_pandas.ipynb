{
  "nbformat": 4,
  "nbformat_minor": 0,
  "metadata": {
    "colab": {
      "provenance": [],
      "authorship_tag": "ABX9TyPbPGLdivExn5O0dxc8wzyw",
      "include_colab_link": true
    },
    "kernelspec": {
      "name": "python3",
      "display_name": "Python 3"
    },
    "language_info": {
      "name": "python"
    }
  },
  "cells": [
    {
      "cell_type": "markdown",
      "metadata": {
        "id": "view-in-github",
        "colab_type": "text"
      },
      "source": [
        "<a href=\"https://colab.research.google.com/github/ahcamachod/2091-pandas-limpieza-y-tratamiento-de-datos/blob/main/limpieza_y_tratamiento_de_datos_con_pandas.ipynb\" target=\"_parent\"><img src=\"https://colab.research.google.com/assets/colab-badge.svg\" alt=\"Open In Colab\"/></a>"
      ]
    },
    {
      "cell_type": "markdown",
      "source": [
        "## 1.2 - Exploración inicial"
      ],
      "metadata": {
        "id": "JC-2uVPq7-wc"
      }
    },
    {
      "cell_type": "code",
      "source": [],
      "metadata": {
        "id": "dQFK2JaoXahj"
      },
      "execution_count": null,
      "outputs": []
    },
    {
      "cell_type": "code",
      "source": [],
      "metadata": {
        "id": "g0yHjxJAXaTI"
      },
      "execution_count": null,
      "outputs": []
    },
    {
      "cell_type": "code",
      "source": [],
      "metadata": {
        "id": "eEiWLPu6XaQU"
      },
      "execution_count": null,
      "outputs": []
    },
    {
      "cell_type": "markdown",
      "source": [
        "## 1.3 - Transformando nuestros datos en una tabla"
      ],
      "metadata": {
        "id": "dfnP9Dla8CsU"
      }
    },
    {
      "cell_type": "code",
      "source": [],
      "metadata": {
        "id": "_ivXLeLxXcAA"
      },
      "execution_count": null,
      "outputs": []
    },
    {
      "cell_type": "code",
      "source": [],
      "metadata": {
        "id": "AGns7DRbXcCz"
      },
      "execution_count": null,
      "outputs": []
    },
    {
      "cell_type": "code",
      "source": [],
      "metadata": {
        "id": "tdhMH9LGXcGF"
      },
      "execution_count": null,
      "outputs": []
    },
    {
      "cell_type": "markdown",
      "source": [
        "## 2.1 - Entendiendo los datos"
      ],
      "metadata": {
        "id": "RoML6p4P9gjk"
      }
    },
    {
      "cell_type": "markdown",
      "source": [
        "La base de datos contiene columnas además del ID de los clientes y el churn:\n",
        "\n",
        "<b>Cliente:</b>\n",
        "\n",
        "* `genero`: género (masculino y femenino)\n",
        "* `adulto_mayor`: información sobre si el cliente tiene o no 65 años o más\n",
        "* `pareja`: si el cliente tiene o no una pareja\n",
        "* `dependientes`: si el cliente tiene o no dependientes\n",
        "* `tiempo_servicio`: meses de contrato del cliente\n",
        "\n",
        "<b>Servicio de telefonía</b>\n",
        "\n",
        "* `servicio_telefono`: suscripción a servicio telefónico\n",
        "* `varias_lineas`: suscripción a más de una línea de teléfono\n",
        "\n",
        "<b>Servicio de internet</b>\n",
        "\n",
        "* `servicio_internet`: suscripción a un proveedor de internet\n",
        "* `seguridad_online`: suscripción adicional de seguridad en línea\n",
        "* `backup_online`: suscripción adicional de respaldo en línea\n",
        "* `proteccion_dispositivo`: suscripción adicional de protección en el dispositivo\n",
        "* `soporte_tecnico`: suscripción adicional de soporte técnico, con menos tiempo de espera\n",
        "* `tv_streaming`: suscripción a televisión por cable\n",
        "* `peliculas_streaming`: suscripción a streaming de películas\n",
        "\n",
        "<b>Cuenta</b>\n",
        "\n",
        "* `contrato`: tipo de contrato\n",
        "* `factura_eletronica`: si el cliente prefiere recibir la factura en línea.\n",
        "* `metodo_pago`: forma de pago.\n",
        "* `cobranza.mensual`: total de todos los servicios del cliente por mes.\n",
        "* `cobranza.Total`: total gastado por el cliente.\n"
      ],
      "metadata": {
        "id": "8iNrtgcZ9ms7"
      }
    },
    {
      "cell_type": "code",
      "source": [],
      "metadata": {
        "id": "dbxWBWmERFuv"
      },
      "execution_count": null,
      "outputs": []
    },
    {
      "cell_type": "code",
      "source": [],
      "metadata": {
        "id": "dOoA-BHMRG9n"
      },
      "execution_count": null,
      "outputs": []
    },
    {
      "cell_type": "markdown",
      "source": [
        "## 2.2 - Modificando el tipo de la columna"
      ],
      "metadata": {
        "id": "hZuL_PzPIzDn"
      }
    },
    {
      "cell_type": "code",
      "source": [],
      "metadata": {
        "id": "W4zZuzznRCTD"
      },
      "execution_count": null,
      "outputs": []
    },
    {
      "cell_type": "code",
      "source": [],
      "metadata": {
        "id": "HXDbixGLRCQ5"
      },
      "execution_count": null,
      "outputs": []
    },
    {
      "cell_type": "code",
      "source": [],
      "metadata": {
        "id": "PciBjQLhRCL7"
      },
      "execution_count": null,
      "outputs": []
    },
    {
      "cell_type": "markdown",
      "source": [
        "## 2.3 Identificando otros posibles datos faltantes"
      ],
      "metadata": {
        "id": "HD99xtnKZ7K8"
      }
    },
    {
      "cell_type": "code",
      "source": [],
      "metadata": {
        "id": "Ec9bTPbSQ_Wc"
      },
      "execution_count": null,
      "outputs": []
    },
    {
      "cell_type": "code",
      "source": [],
      "metadata": {
        "id": "dkj14_VqQ_UT"
      },
      "execution_count": null,
      "outputs": []
    },
    {
      "cell_type": "code",
      "source": [],
      "metadata": {
        "id": "IT59PGauQ_Rr"
      },
      "execution_count": null,
      "outputs": []
    },
    {
      "cell_type": "markdown",
      "source": [
        "## 3.1 - Tratando los datos duplicados"
      ],
      "metadata": {
        "id": "LWr3Z_iggjR0"
      }
    },
    {
      "cell_type": "code",
      "source": [],
      "metadata": {
        "id": "uYv1jkjxQxlw"
      },
      "execution_count": null,
      "outputs": []
    },
    {
      "cell_type": "code",
      "source": [],
      "metadata": {
        "id": "JLHuE6jYQxi2"
      },
      "execution_count": null,
      "outputs": []
    },
    {
      "cell_type": "code",
      "source": [],
      "metadata": {
        "id": "dXs7-qkhQxfC"
      },
      "execution_count": null,
      "outputs": []
    },
    {
      "cell_type": "markdown",
      "source": [
        "## 3.2 - Identificando y tratando valores nulos"
      ],
      "metadata": {
        "id": "2cBd0i9lofju"
      }
    },
    {
      "cell_type": "code",
      "source": [],
      "metadata": {
        "id": "6ZSFs3TKQtvo"
      },
      "execution_count": null,
      "outputs": []
    },
    {
      "cell_type": "code",
      "source": [],
      "metadata": {
        "id": "iFKl5mGmQtyN"
      },
      "execution_count": null,
      "outputs": []
    },
    {
      "cell_type": "code",
      "source": [],
      "metadata": {
        "id": "bMZjYQWJQt0i"
      },
      "execution_count": null,
      "outputs": []
    },
    {
      "cell_type": "markdown",
      "source": [
        "## 3.3 - Eliminando los datos nulos"
      ],
      "metadata": {
        "id": "xgG82z7cESB9"
      }
    },
    {
      "cell_type": "code",
      "source": [],
      "metadata": {
        "id": "ZeLvKQw9QqhU"
      },
      "execution_count": null,
      "outputs": []
    },
    {
      "cell_type": "code",
      "source": [],
      "metadata": {
        "id": "DRde_btFQqj0"
      },
      "execution_count": null,
      "outputs": []
    },
    {
      "cell_type": "code",
      "source": [],
      "metadata": {
        "id": "m7THnDGxQq3Z"
      },
      "execution_count": null,
      "outputs": []
    },
    {
      "cell_type": "markdown",
      "source": [
        "## 4.1 - Identificando valores atípicos"
      ],
      "metadata": {
        "id": "TJiZ3-3FHY2m"
      }
    },
    {
      "cell_type": "markdown",
      "source": [
        "![](https://i.imgur.com/Arb5cXL.png)"
      ],
      "metadata": {
        "id": "RHbaXJZIHf3o"
      }
    },
    {
      "cell_type": "code",
      "source": [],
      "metadata": {
        "id": "NTZrHgtKQcEr"
      },
      "execution_count": null,
      "outputs": []
    },
    {
      "cell_type": "code",
      "source": [],
      "metadata": {
        "id": "HwIs_kvNQb9X"
      },
      "execution_count": null,
      "outputs": []
    },
    {
      "cell_type": "code",
      "source": [],
      "metadata": {
        "id": "SCe-CK7bQb1z"
      },
      "execution_count": null,
      "outputs": []
    },
    {
      "cell_type": "markdown",
      "source": [
        "## 4.2 - Tratando los valores atípicos"
      ],
      "metadata": {
        "id": "q3RVOQlvT2dv"
      }
    },
    {
      "cell_type": "code",
      "source": [],
      "metadata": {
        "id": "GuNMLs93QVfU"
      },
      "execution_count": null,
      "outputs": []
    },
    {
      "cell_type": "code",
      "source": [],
      "metadata": {
        "id": "X8pPZ512QVic"
      },
      "execution_count": null,
      "outputs": []
    },
    {
      "cell_type": "code",
      "source": [],
      "metadata": {
        "id": "g9Oa5yFqQVlA"
      },
      "execution_count": null,
      "outputs": []
    },
    {
      "cell_type": "markdown",
      "source": [
        "## 4.3 - Removiendo los outliers"
      ],
      "metadata": {
        "id": "xCuM3mgKWWM4"
      }
    },
    {
      "cell_type": "code",
      "source": [],
      "metadata": {
        "id": "M-o3oruwQS6Q"
      },
      "execution_count": null,
      "outputs": []
    },
    {
      "cell_type": "code",
      "source": [],
      "metadata": {
        "id": "y8Q01WE-QTBv"
      },
      "execution_count": null,
      "outputs": []
    },
    {
      "cell_type": "code",
      "source": [],
      "metadata": {
        "id": "2k3MmuY5QTSp"
      },
      "execution_count": null,
      "outputs": []
    },
    {
      "cell_type": "markdown",
      "source": [
        "## 5.1 - Sustituyendo las variables"
      ],
      "metadata": {
        "id": "TNOj4Hn7Li9P"
      }
    },
    {
      "cell_type": "code",
      "source": [],
      "metadata": {
        "id": "Bg04Xqo5PpYp"
      },
      "execution_count": null,
      "outputs": []
    },
    {
      "cell_type": "code",
      "source": [],
      "metadata": {
        "id": "wHxrSIJTPpn0"
      },
      "execution_count": null,
      "outputs": []
    },
    {
      "cell_type": "code",
      "source": [],
      "metadata": {
        "id": "MPBKPLY3Ppt0"
      },
      "execution_count": null,
      "outputs": []
    },
    {
      "cell_type": "markdown",
      "source": [
        "## 5.2 - One Hot Encoding"
      ],
      "metadata": {
        "id": "W0gn1dtcQdYH"
      }
    },
    {
      "cell_type": "code",
      "source": [],
      "metadata": {
        "id": "b5rBSPnhPrZY"
      },
      "execution_count": null,
      "outputs": []
    },
    {
      "cell_type": "code",
      "source": [],
      "metadata": {
        "id": "j318Dl4UPrel"
      },
      "execution_count": null,
      "outputs": []
    },
    {
      "cell_type": "code",
      "source": [],
      "metadata": {
        "id": "p_iGTBPyPrhN"
      },
      "execution_count": null,
      "outputs": []
    }
  ]
}